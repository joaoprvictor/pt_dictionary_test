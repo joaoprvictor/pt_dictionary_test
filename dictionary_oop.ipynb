{
 "cells": [
  {
   "cell_type": "markdown",
   "metadata": {},
   "source": [
    "# Creating a Portuguese Dictionary"
   ]
  },
  {
   "cell_type": "markdown",
   "metadata": {},
   "source": [
    "This mini Python project aims at building a PT dictionary using webscraping and OOP."
   ]
  },
  {
   "cell_type": "markdown",
   "metadata": {},
   "source": [
    "## Preparing the list of words to search in the dictionary"
   ]
  },
  {
   "cell_type": "markdown",
   "metadata": {},
   "source": [
    "corpus = http://www.ufrgs.br/textecc/porlexbras/corpop/lista.php\n",
    "\n",
    "CorPop: a reference corpus of popular written Portuguese from Brazil\n",
    "\n",
    "CorPop is a corpus of written popular Brazilian Portuguese, compiled from selected texts based on the average literacy level of the country's readers. _(description taken from the corpus website)_"
   ]
  },
  {
   "cell_type": "code",
   "execution_count": 1,
   "metadata": {},
   "outputs": [],
   "source": [
    "import unicodedata"
   ]
  },
  {
   "cell_type": "code",
   "execution_count": 2,
   "metadata": {},
   "outputs": [],
   "source": [
    "path = \"C:/Users/joaop/Documents/oop/\"\n",
    "import re\n",
    "with open(path + 'corprop_lemas.txt', 'r', encoding='iso-8859-1') as f: #reading the list of words file\n",
    "    \n",
    "    #LÊ O TEXTO\n",
    "    words_corpus = f.read()\n",
    "    new_word_corpus = ''.join(ch for ch in unicodedata.normalize('NFKD', words_corpus) #replacing the PT special characters\n",
    "    if not unicodedata.combining(ch))"
   ]
  },
  {
   "cell_type": "code",
   "execution_count": 3,
   "metadata": {},
   "outputs": [
    {
     "data": {
      "text/plain": [
       "['admitir',\n",
       " 'adocao',\n",
       " 'adoecer',\n",
       " 'adolescencia',\n",
       " 'adolescente',\n",
       " 'adoracao',\n",
       " 'adorar',\n",
       " 'adormecer',\n",
       " 'adormecido']"
      ]
     },
     "execution_count": 3,
     "metadata": {},
     "output_type": "execute_result"
    }
   ],
   "source": [
    "list_words_corpus = new_word_corpus.split(\"\\n\") #transforming the string into a list (each item is a word)\n",
    "list_words_corpus[100:109]"
   ]
  },
  {
   "cell_type": "code",
   "execution_count": 4,
   "metadata": {},
   "outputs": [
    {
     "name": "stdout",
     "output_type": "stream",
     "text": [
      "100\n"
     ]
    }
   ],
   "source": [
    "# creating the URLs based on the corpus list\n",
    "pages = []\n",
    "for word in list_words_corpus[:100]: #trying out w/ 100 just to check if it works\n",
    "    url = f\"http://www.dicio.com.br/{word}/\"\n",
    "    pages.append(url)\n",
    "\n",
    "print(len(pages))"
   ]
  },
  {
   "cell_type": "markdown",
   "metadata": {},
   "source": [
    "## Preparing and doing the webscraping"
   ]
  },
  {
   "cell_type": "code",
   "execution_count": 5,
   "metadata": {},
   "outputs": [],
   "source": [
    "import requests\n",
    "from bs4 import BeautifulSoup as bs\n",
    "HEADERS = ({'User-Agent':\n",
    "            'Mozilla/5.0 (X11; Linux x86_64) AppleWebKit/537.36 (KHTML, like Gecko) Chrome/44.0.2403.157 Safari/537.36'})"
   ]
  },
  {
   "cell_type": "code",
   "execution_count": 32,
   "metadata": {},
   "outputs": [],
   "source": [
    "def get_info_from_dict(page): \n",
    "    #function that retrieves all information of a word at once: thw word, its meaning\n",
    "    # its definition and an example in a sentence\n",
    "    import re\n",
    "    web_response = requests.get(page, headers=HEADERS)\n",
    "    soup = bs(web_response.text, \"html.parser\")\n",
    "    definition_html = soup.find(class_ = \"significado textonovo\")\n",
    "    definition_str = str(definition_html)\n",
    "    definition_str = re.sub(\"\\<\\/span\\>\", \"\", definition_str)\n",
    "    definition_str = re.sub(\"\\<\\span\\>\", \"\", definition_str)\n",
    "    definition_str= re.sub(\"\\<span\", \"\", definition_str)\n",
    "    definition_final = definition_str.split(\">\")[3]\n",
    "    example_html = soup.find(class_ = \"frase\")\n",
    "    example_str = str(example_html)\n",
    "    example_main = re.findall(\"(?<=\\<span\\>).*(?=\\<br\\/>)\", example_str)\n",
    "    example_main = str(example_main)\n",
    "    example_final = re.sub(\"\\[\", \"\", example_main)\n",
    "    example_final2 = re.sub(\"\\]\", \"\", example_final)\n",
    "    class_html = soup.find(class_ = \"cl\").text\n",
    "    # class_name = re.sub(\"\\<span class=\\\"cl\\\"\\>\", \" \", class_html)\n",
    "    # class_name = re.sub(\"\\<\\/span\\>\", \" \", class_html)\n",
    "    word_title = soup.find(\"h1\").text\n",
    "    return word_title, definition_final, example_final2, class_html"
   ]
  },
  {
   "cell_type": "code",
   "execution_count": 23,
   "metadata": {},
   "outputs": [],
   "source": [
    "word_infos = []\n",
    "for page in pages:\n",
    "    c, d, e, f = get_info_from_dict(page) # looping the function to get the information for all words in the list\n",
    "    word_infos.append([c, d, e, f]) "
   ]
  },
  {
   "cell_type": "code",
   "execution_count": 24,
   "metadata": {},
   "outputs": [
    {
     "data": {
      "text/plain": [
       "100"
      ]
     },
     "execution_count": 24,
     "metadata": {},
     "output_type": "execute_result"
    }
   ],
   "source": [
    "len(word_infos) #checking"
   ]
  },
  {
   "cell_type": "markdown",
   "metadata": {},
   "source": [
    "## Creating the dictionary class"
   ]
  },
  {
   "cell_type": "code",
   "execution_count": 25,
   "metadata": {},
   "outputs": [],
   "source": [
    "class color:\n",
    "   PURPLE = '\\033[95m'\n",
    "   CYAN = '\\033[96m'\n",
    "   DARKCYAN = '\\033[36m'\n",
    "   BLUE = '\\033[94m'\n",
    "   GREEN = '\\033[92m'\n",
    "   YELLOW = '\\033[93m'\n",
    "   RED = '\\033[91m'\n",
    "   BOLD = '\\033[1m'\n",
    "   UNDERLINE = '\\033[4m'\n",
    "   END = '\\033[0m'"
   ]
  },
  {
   "cell_type": "code",
   "execution_count": 26,
   "metadata": {},
   "outputs": [],
   "source": [
    "class Entry: \n",
    "    #entry = all information about a word\n",
    "    def __init__(self, word): #the word\n",
    "        self.word = word\n",
    "        # print(f\"{word} added to the Dictionary\")\n",
    "\n",
    "    def create_class(self, classes):   #the grammatical class \n",
    "        self.classes = classes\n",
    "        # print(f\"{transcription} added to the Dictionary\")\n",
    "    \n",
    "    def create_meaning(self, meaning): #the definition\n",
    "        self.meaning = meaning\n",
    "        # print(f\"{meaning} added to the Dictionary\")\n",
    "\n",
    "    def create_example(self, example): #the example\n",
    "        self.example = example \n",
    "        # print(f\"{example} added to the Dictionary\") "
   ]
  },
  {
   "cell_type": "code",
   "execution_count": 43,
   "metadata": {},
   "outputs": [],
   "source": [
    "class Dictionary(Entry):\n",
    "    # methods here all related only to the dictionary query\n",
    "    def __init__(self, palavras):\n",
    "        self.palavras = palavras\n",
    "\n",
    "    def definition_search(self): #get only the semantic meaning\n",
    "        word_query = str(input(\"Write the word you want to know the meaning\"))\n",
    "        for obj_word in self.palavras:\n",
    "            if word_query == obj_word.word: \n",
    "                word_bold = color.RED + f\"{obj_word.word}\" + color.END\n",
    "                meaning_bold = color.RED +f\"{obj_word.meaning}\"+ color.END\n",
    "                print(f\"The meaning of {word_bold} is {meaning_bold}\")\n",
    "                break\n",
    "        else:\n",
    "            print(\"Word not found\")\n",
    "    \n",
    "    def get_full_entry(self): #get the transcription, semantic meaning and example (full entry)\n",
    "        full_entry_query = str(input(\"Write the word you want to know the full entry\"))\n",
    "        for obj_word in self.palavras:\n",
    "            if full_entry_query == obj_word.word:\n",
    "                print(f\"{color.BOLD}Word{color.END}: {obj_word.word}\\n{color.BOLD}Class{color.END}: {obj_word.classes}\\n{color.BOLD}Meaning{color.END}: {obj_word.meaning}\\n{color.BOLD}Example:{color.END} {obj_word.example}\") \n",
    "                break\n",
    "                \n",
    "        else:\n",
    "            print(\"Word not found\")  \n",
    "    \n",
    "    def get_full_dict(self): #get full entry of all words in the dictionary\n",
    "        words_sorted = sorted(self.palavras, key=lambda palavra: palavra.word)\n",
    "        for obj_word in words_sorted:\n",
    "            print(f\"Word: {obj_word.word}\\nClass: {obj_word.classes}\\nMeaning: {obj_word.meaning}\\nExample: {obj_word.example}\")\n",
    "            print(\"\\n==========\")\n",
    "\n",
    "    def delete_full_entry(self): # delete full entry of a word in the dictionary\n",
    "        entry_query = str(input(\"Write the word whose full entry you want to delete\"))\n",
    "        for obj_word in self.palavras:\n",
    "            if entry_query ==  obj_word.word:\n",
    "                self.palavras.remove(obj_word)\n",
    "                print(f\"Entry of word *{obj_word.word}* deleted successfully\")\n",
    "                break\n",
    "        else:\n",
    "            print(\"Word not found. Try again\")"
   ]
  },
  {
   "cell_type": "markdown",
   "metadata": {},
   "source": [
    "## Putting it to work"
   ]
  },
  {
   "cell_type": "code",
   "execution_count": 44,
   "metadata": {},
   "outputs": [],
   "source": [
    "list_entry = []\n",
    "for word_info in word_infos:\n",
    "    word = Entry(word_info[0])\n",
    "    word.create_meaning(word_info[1])\n",
    "    word.create_example(word_info[2])\n",
    "    word.create_class(word_info[3])\n",
    "    # print(word_info)\n",
    "    list_entry.append(word)"
   ]
  },
  {
   "cell_type": "code",
   "execution_count": 40,
   "metadata": {},
   "outputs": [
    {
     "name": "stdout",
     "output_type": "stream",
     "text": [
      "adivinhar\n",
      "adivinho\n",
      "administração\n",
      "administrador\n",
      "administrar\n",
      "administrativo\n",
      "admiração\n",
      "admirando\n",
      "admirar\n"
     ]
    }
   ],
   "source": [
    "for entry in list_entry[90:99]:\n",
    "    print(entry.word) #checking"
   ]
  },
  {
   "cell_type": "code",
   "execution_count": 45,
   "metadata": {},
   "outputs": [],
   "source": [
    "pt_dict = Dictionary(list_entry)"
   ]
  },
  {
   "cell_type": "code",
   "execution_count": 46,
   "metadata": {},
   "outputs": [
    {
     "name": "stdout",
     "output_type": "stream",
     "text": [
      "The meaning of \u001b[91macabar\u001b[0m is \u001b[1mLevar a seu termo, ao fim; perfazer, concluir, terminar: acabar uma tarefa para o trabalho; nosso casamento se acabou com o tempo. class=\"cl\"\u001b[0m\n"
     ]
    }
   ],
   "source": [
    "pt_dict.definition_search() # do a query for the meaning of a word"
   ]
  },
  {
   "cell_type": "code",
   "execution_count": 42,
   "metadata": {},
   "outputs": [
    {
     "name": "stdout",
     "output_type": "stream",
     "text": [
      "\u001b[1mWord\u001b[0m: acabar\n",
      "\u001b[1mClass\u001b[0m: verbo bitransitivo, intransitivo e pronominal\n",
      "\u001b[1mMeaning\u001b[0m: Levar a seu termo, ao fim; perfazer, concluir, terminar: acabar uma tarefa para o trabalho; nosso casamento se acabou com o tempo. class=\"cl\"\n",
      "\u001b[1mExample:\u001b[0m 'É melhor calar-se e deixar que as pessoas pensem que você é um idiota do quer falar e acabar com a dúvida.'\n"
     ]
    }
   ],
   "source": [
    "pt_dict.get_full_entry() # do a query for the full entry of a word"
   ]
  },
  {
   "cell_type": "code",
   "execution_count": null,
   "metadata": {},
   "outputs": [],
   "source": [
    "pt_dict.get_full_dict() #get the full dictionary \n",
    "# Attention: if you put a lot of entries in it, your IDE probably will show a portion of it"
   ]
  },
  {
   "cell_type": "code",
   "execution_count": null,
   "metadata": {},
   "outputs": [],
   "source": [
    "pt_dict.delete_full_entry() # delete an entry\n",
    "# tip test deleting the first word so it's going to be easier to check if it's working\n",
    "pt_dict.get_full_dict() #checking if it worked\n"
   ]
  }
 ],
 "metadata": {
  "kernelspec": {
   "display_name": "Python 3.10.8 64-bit (microsoft store)",
   "language": "python",
   "name": "python3"
  },
  "language_info": {
   "codemirror_mode": {
    "name": "ipython",
    "version": 3
   },
   "file_extension": ".py",
   "mimetype": "text/x-python",
   "name": "python",
   "nbconvert_exporter": "python",
   "pygments_lexer": "ipython3",
   "version": "3.10.8"
  },
  "orig_nbformat": 4,
  "vscode": {
   "interpreter": {
    "hash": "6ae31e9fee54a3dc471954a11e553b300df5afc687cca06ee50e4665b9971c71"
   }
  }
 },
 "nbformat": 4,
 "nbformat_minor": 2
}
